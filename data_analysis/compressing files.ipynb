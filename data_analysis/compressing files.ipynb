{
 "cells": [
  {
   "cell_type": "code",
   "execution_count": 55,
   "metadata": {},
   "outputs": [],
   "source": [
    "from PIL import Image\n",
    "import os"
   ]
  },
  {
   "cell_type": "code",
   "execution_count": 34,
   "metadata": {},
   "outputs": [
    {
     "name": "stderr",
     "output_type": "stream",
     "text": [
      "C:\\ProgramData\\Anaconda3\\lib\\site-packages\\PIL\\TiffImagePlugin.py:739: UserWarning: Possibly corrupt EXIF data.  Expecting to read 4718592 bytes but only got 0. Skipping tag 0\n",
      "  \" Skipping tag %s\" % (size, len(data), tag))\n",
      "C:\\ProgramData\\Anaconda3\\lib\\site-packages\\PIL\\TiffImagePlugin.py:739: UserWarning: Possibly corrupt EXIF data.  Expecting to read 1310720 bytes but only got 0. Skipping tag 9\n",
      "  \" Skipping tag %s\" % (size, len(data), tag))\n",
      "C:\\ProgramData\\Anaconda3\\lib\\site-packages\\PIL\\TiffImagePlugin.py:739: UserWarning: Possibly corrupt EXIF data.  Expecting to read 99877888 bytes but only got 0. Skipping tag 1029\n",
      "  \" Skipping tag %s\" % (size, len(data), tag))\n",
      "C:\\ProgramData\\Anaconda3\\lib\\site-packages\\PIL\\TiffImagePlugin.py:739: UserWarning: Possibly corrupt EXIF data.  Expecting to read 31197188 bytes but only got 0. Skipping tag 1029\n",
      "  \" Skipping tag %s\" % (size, len(data), tag))\n"
     ]
    }
   ],
   "source": [
    "foo = Image.open(r'NIK_needles/2A0.5mmper30sec60mmdeoth.jpg')"
   ]
  },
  {
   "cell_type": "code",
   "execution_count": 48,
   "metadata": {},
   "outputs": [
    {
     "data": {
      "text/plain": [
       "[1280, 960]"
      ]
     },
     "execution_count": 48,
     "metadata": {},
     "output_type": "execute_result"
    }
   ],
   "source": [
    "orig_size = foo.size\n",
    "scale_factor = 2\n",
    "new_size = [int(a/scale_factor) for a in orig_size]\n",
    "new_size"
   ]
  },
  {
   "cell_type": "code",
   "execution_count": 49,
   "metadata": {},
   "outputs": [],
   "source": [
    "foo_1 = foo.resize((new_size[0],new_size[1]),Image.ANTIALIAS)"
   ]
  },
  {
   "cell_type": "code",
   "execution_count": 52,
   "metadata": {},
   "outputs": [],
   "source": [
    "foo_1.save('NIK_needles/Compressed images/2A0.5mmper30sec60mmdeoth.jpg')"
   ]
  },
  {
   "cell_type": "code",
   "execution_count": 53,
   "metadata": {},
   "outputs": [],
   "source": [
    "foo_1.show()"
   ]
  },
  {
   "cell_type": "code",
   "execution_count": 56,
   "metadata": {
    "scrolled": true
   },
   "outputs": [
    {
     "data": {
      "text/plain": [
       "['05132019',\n",
       " '05142019',\n",
       " '2A0.5mmper30sec60mmdeoth.jpg',\n",
       " '2A0.5mmper30sec60mmdeoth_1.jpg',\n",
       " '2A0.5mmper30sec70mmdepth_1.jpg',\n",
       " '2A0.5mmper30sec70mmdepth_2.jpg',\n",
       " '2A0.5mmper30sec70mmdepth_top.jpg',\n",
       " '2A0.5mmper30sec75mmdepthupto0600.jpg',\n",
       " '2A1mmper1min.jpg',\n",
       " '2A1mmper30sec.jpg',\n",
       " '2A1mmper30sec75mmdepth.jpg',\n",
       " '2A1mmper30sec75mmdepth_surface_10minpolish_at6.4v.jpg',\n",
       " '2A1mmper30sec75mmdepth_surface_10minpolish_at6.4v_clean.jpg',\n",
       " '2A1mmper30sec75mmdepth_surface_10minpolish_at6.4v_surface.jpg',\n",
       " '2A1mmper30sec75mmdepth_surface_5minpolish_at6.4v.jpg',\n",
       " '2A1mmper30sec75mmdepth_surface_no polish.jpg',\n",
       " 'Compressed images']"
      ]
     },
     "execution_count": 56,
     "metadata": {},
     "output_type": "execute_result"
    }
   ],
   "source": [
    "os.listdir('NIK_needles')"
   ]
  },
  {
   "cell_type": "code",
   "execution_count": 74,
   "metadata": {},
   "outputs": [
    {
     "name": "stderr",
     "output_type": "stream",
     "text": [
      "C:\\ProgramData\\Anaconda3\\lib\\site-packages\\PIL\\TiffImagePlugin.py:739: UserWarning: Possibly corrupt EXIF data.  Expecting to read 4718592 bytes but only got 0. Skipping tag 0\n",
      "  \" Skipping tag %s\" % (size, len(data), tag))\n",
      "C:\\ProgramData\\Anaconda3\\lib\\site-packages\\PIL\\TiffImagePlugin.py:739: UserWarning: Possibly corrupt EXIF data.  Expecting to read 1310720 bytes but only got 0. Skipping tag 9\n",
      "  \" Skipping tag %s\" % (size, len(data), tag))\n",
      "C:\\ProgramData\\Anaconda3\\lib\\site-packages\\PIL\\TiffImagePlugin.py:739: UserWarning: Possibly corrupt EXIF data.  Expecting to read 99877888 bytes but only got 0. Skipping tag 1029\n",
      "  \" Skipping tag %s\" % (size, len(data), tag))\n",
      "C:\\ProgramData\\Anaconda3\\lib\\site-packages\\PIL\\TiffImagePlugin.py:739: UserWarning: Possibly corrupt EXIF data.  Expecting to read 31197188 bytes but only got 0. Skipping tag 1029\n",
      "  \" Skipping tag %s\" % (size, len(data), tag))\n"
     ]
    }
   ],
   "source": [
    "for filename in os.listdir('NIK_needles') : \n",
    "    if filename.endswith('.jpg'):\n",
    "        #filename = 'NIK_needles/' + filename\n",
    "        foo = Image.open('NIK_needles/' + filename)\n",
    "        orig_size = foo.size\n",
    "        new_size = [int(a/scale_factor) for a in orig_size]\n",
    "        foo_1 = foo.resize((new_size[0],new_size[1]),Image.ANTIALIAS)\n",
    "        #print(foo_1.size)\n",
    "        foo_1.save('NIK_needles/Compressed images/' + filename)  "
   ]
  },
  {
   "cell_type": "code",
   "execution_count": 75,
   "metadata": {},
   "outputs": [
    {
     "data": {
      "text/plain": [
       "'C:\\\\Users\\\\nikot\\\\Desktop\\\\Work\\\\Needle Fabrication'"
      ]
     },
     "execution_count": 75,
     "metadata": {},
     "output_type": "execute_result"
    }
   ],
   "source": [
    "os.getcwd()"
   ]
  },
  {
   "cell_type": "code",
   "execution_count": 78,
   "metadata": {},
   "outputs": [],
   "source": [
    "mkdir new_folder"
   ]
  },
  {
   "cell_type": "code",
   "execution_count": null,
   "metadata": {},
   "outputs": [],
   "source": []
  }
 ],
 "metadata": {
  "kernelspec": {
   "display_name": "Python 3",
   "language": "python",
   "name": "python3"
  },
  "language_info": {
   "codemirror_mode": {
    "name": "ipython",
    "version": 3
   },
   "file_extension": ".py",
   "mimetype": "text/x-python",
   "name": "python",
   "nbconvert_exporter": "python",
   "pygments_lexer": "ipython3",
   "version": "3.6.5"
  }
 },
 "nbformat": 4,
 "nbformat_minor": 2
}
