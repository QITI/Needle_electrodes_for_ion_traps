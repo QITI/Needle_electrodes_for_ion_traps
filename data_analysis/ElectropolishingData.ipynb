{
 "cells": [
  {
   "cell_type": "code",
   "execution_count": 1,
   "metadata": {},
   "outputs": [],
   "source": [
    "import matplotlib.pyplot as plt\n",
    "import numpy as np\n"
   ]
  },
  {
   "cell_type": "code",
   "execution_count": 2,
   "metadata": {},
   "outputs": [],
   "source": [
    "with open('needles_data.txt','r') as f :\n",
    "    data = f.readlines()"
   ]
  },
  {
   "cell_type": "code",
   "execution_count": 3,
   "metadata": {},
   "outputs": [
    {
     "data": {
      "text/plain": [
       "['9', '9.004081684', '0.9969809292']"
      ]
     },
     "execution_count": 3,
     "metadata": {},
     "output_type": "execute_result"
    }
   ],
   "source": [
    "data[10].strip().split('\\t')"
   ]
  },
  {
   "cell_type": "code",
   "execution_count": 4,
   "metadata": {},
   "outputs": [],
   "source": [
    "V = []\n",
    "I = []\n",
    "err = []\n",
    "for line in data[2:]:\n",
    "    V.append(float(line.strip().split('\\t')[0]))\n",
    "    I.append(float(line.strip().split('\\t')[1]))\n",
    "    err.append(float(line.strip().split('\\t')[2]))\n",
    "V = np.array(V)   \n",
    "I = np.array(I)"
   ]
  },
  {
   "cell_type": "code",
   "execution_count": 5,
   "metadata": {},
   "outputs": [
    {
     "name": "stdout",
     "output_type": "stream",
     "text": [
      "Using matplotlib backend: Qt5Agg\n"
     ]
    }
   ],
   "source": [
    "%matplotlib\n",
    "plt.style.use('seaborn-white')\n",
    "fig = plt.figure(figsize= (10,6))\n",
    "ax = fig.add_subplot(111)\n",
    "ax.set_xticks(np.arange(0,20))\n",
    "ax.set_yticks(np.arange(0,50,5))\n",
    "ax.errorbar(V,I,yerr=err,fmt = '-k')\n",
    "#ax.errorbar(V,I,err,uplims=True,lolims=True,label = 'No')\n",
    "#ax.set_xlabel('Voltage(V)')\n",
    "#ax.set_ylabel('mA/mm^2')\n",
    "fig.show()"
   ]
  },
  {
   "cell_type": "code",
   "execution_count": null,
   "metadata": {},
   "outputs": [],
   "source": []
  },
  {
   "cell_type": "code",
   "execution_count": null,
   "metadata": {},
   "outputs": [],
   "source": []
  }
 ],
 "metadata": {
  "kernelspec": {
   "display_name": "Python 3",
   "language": "python",
   "name": "python3"
  },
  "language_info": {
   "codemirror_mode": {
    "name": "ipython",
    "version": 3
   },
   "file_extension": ".py",
   "mimetype": "text/x-python",
   "name": "python",
   "nbconvert_exporter": "python",
   "pygments_lexer": "ipython3",
   "version": "3.6.5"
  }
 },
 "nbformat": 4,
 "nbformat_minor": 2
}
