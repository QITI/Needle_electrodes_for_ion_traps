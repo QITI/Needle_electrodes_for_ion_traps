{
 "cells": [
  {
   "cell_type": "code",
   "execution_count": 1,
   "metadata": {},
   "outputs": [],
   "source": [
    "import numpy as np\n",
    "import matplotlib.pyplot as plt"
   ]
  },
  {
   "cell_type": "markdown",
   "metadata": {},
   "source": [
    "# Estimation of molarity of the solution with time\n",
    "The equations for the tungsten electropolishing are: \n",
    "\n",
    "$ 6H_2O + 6e^- \\longrightarrow 3H_2 + 6OH^- \\text{   at the cathode}$\n",
    "\n",
    " $W + 8OH^- \\longrightarrow WO_4 ^{2-} + 4H_20 + 6e^- \\text{   at the anode}$\n",
    " \n",
    " $W + 2OH^- + 2H_20\\longrightarrow  WO_4^{2-} + 3H_2 \\text{   overall}$\n",
    " \n",
    " From this it is clear that for every $6e^-$ C of charge flowing through the solution, there are two $OH^-$ ions that get converted to $H_2O$. Hence every 1e C of charge leads to the loss of 1/3 $OH^-$ ions. \n",
    " \n",
    " Set us begin with a x molar solution of NaOH. This means that there are $(x \\times N_a)$, $OH^-$ ions in the solution. If a constant current of I amperes flows through the solution, the depletion of the $OH^-$ ions happens at a rate = $\\frac{I}{3e}$ ions per second. The molarity of the solution as a function of time then is :\n",
    " \n",
    " $M = \\frac{x\\times N_a \\times vol- \\frac{I}{3e}\\times t}{N_a \\times vol}$\n",
    " \n",
    " Assuming molarity at time t = 0 is x M."
   ]
  },
  {
   "cell_type": "code",
   "execution_count": 2,
   "metadata": {},
   "outputs": [],
   "source": [
    "def molarity(initial_mol,current,time,volume):\n",
    "    Na = 6.023*10**23 # atoms/mol\n",
    "    e = 1.60217662*10**(-19) # C\n",
    "    M = initial_mol\n",
    "    I = current # colounms/sec\n",
    "    t = time # Seconds\n",
    "    lt = volume # litres\n",
    "    Mt = (((M*Na*lt)-(I/(3*e))*t))/(Na*lt)\n",
    "    return Mt"
   ]
  },
  {
   "cell_type": "code",
   "execution_count": 3,
   "metadata": {},
   "outputs": [
    {
     "data": {
      "text/plain": [
       "1.9751293011628765"
      ]
     },
     "execution_count": 3,
     "metadata": {},
     "output_type": "execute_result"
    }
   ],
   "source": [
    "molarity(2,2,3600,1)"
   ]
  },
  {
   "cell_type": "code",
   "execution_count": 4,
   "metadata": {},
   "outputs": [],
   "source": [
    "t = np.linspace(0,3600,1000)"
   ]
  },
  {
   "cell_type": "code",
   "execution_count": 6,
   "metadata": {},
   "outputs": [
    {
     "data": {
      "image/png": "[encoded data removed]",
      "text/plain": [
       "<Figure size 576x288 with 1 Axes>"
      ]
     },
     "metadata": {},
     "output_type": "display_data"
    }
   ],
   "source": [
    "t = np.linspace(0,360,1000)\n",
    "fig = plt.figure(figsize = (8,4))\n",
    "ax = fig.add_subplot(111)\n",
    "ax.plot(t,molarity(2,2,t,1))\n",
    "plt.show()"
   ]
  },
  {
   "cell_type": "code",
   "execution_count": null,
   "metadata": {},
   "outputs": [],
   "source": []
  }
 ],
 "metadata": {
  "kernelspec": {
   "display_name": "Python 3",
   "language": "python",
   "name": "python3"
  },
  "language_info": {
   "codemirror_mode": {
    "name": "ipython",
    "version": 3
   },
   "file_extension": ".py",
   "mimetype": "text/x-python",
   "name": "python",
   "nbconvert_exporter": "python",
   "pygments_lexer": "ipython3",
   "version": "3.6.5"
  }
 },
 "nbformat": 4,
 "nbformat_minor": 2
}
